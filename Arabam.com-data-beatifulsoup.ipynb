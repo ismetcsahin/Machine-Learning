{
 "cells": [
  {
   "cell_type": "markdown",
   "metadata": {},
   "source": [
    "# Arabam.com_verisi"
   ]
  },
  {
   "cell_type": "markdown",
   "metadata": {},
   "source": [
    "### Bu çalışma da BeeatifulSoup ile arabam.com üzerinden skoda-istanbul-avrupa üzerindeki sitenin izin verdiği 50 tane arabanın verisini çeşitli işlemler yaparak çektim, bunu çekmemin sebebi ise kendi projemde Car Price Prediction yapmış olmam, kodların tamamı bana aittir."
   ]
  },
  {
   "cell_type": "code",
   "execution_count": 1,
   "metadata": {},
   "outputs": [
    {
     "name": "stdout",
     "output_type": "stream",
     "text": [
      "Skoda SuperB 1.5 TSI GreenTec Prestige,2020,8.500 ,Gri, 414.500 TL \n",
      "Skoda Octavia 1.6 TDI Style CR,2017,147.000 ,Beyaz, 225.000 TL \n",
      "Skoda Fabia 1.4 Ambiente Dynamic,2011,160.000 ,-, 70.000 TL \n",
      "Skoda Roomster 1.2 Panorama,2011,206.000 ,Beyaz, 82.000 TL \n",
      "Skoda Fabia 1.4 Ambiente Dynamic,2011,176.000 ,-, 67.500 TL \n",
      "Skoda Fabia 1.2 Classic,2010,83.000 ,Gri, 87.900 TL \n",
      "Skoda Rapid 1.6 TDI Elegance,2014,199.500 ,-, 137.500 TL \n",
      "Skoda SuperB 1.5 TSI GreenTec Elite,2020,0 ,Siyah, 337.950 TL \n",
      "Skoda Octavia 1.6 TDI Optimal,2016,77.000 ,Beyaz, 205.000 TL \n",
      "Skoda SuperB 1.6 TDI Active,2017,83.000 ,Siyah, 280.000 TL \n",
      "Skoda Fabia 1.6 TDI Ambiente,2011,172.000 ,Beyaz, 122.000 TL \n",
      "Skoda Rapid 1.4 TDI Spaceback Ambition,2015,161.000 ,-, 143.500 TL \n",
      "Skoda Octavia 1.6 TDI Optimal,2017,77.000 ,Beyaz, 212.950 TL \n",
      "Skoda Rapid 1.4 TDI Style,2016,75.000 ,Beyaz, 159.950 TL \n",
      "Skoda Rapid 1.2 TSI Spaceback Ambition,2014,91.000 ,Kırmızı, 114.000 TL \n",
      "Skoda Fabia 1.4 TDI Classic,2007,236.000 ,Beyaz, 57.500 TL \n",
      "Skoda Rapid 1.2 TSI Style,2015,42.000 ,Füme, 165.000 TL \n",
      "Skoda Octavia 1.6 TDI Elegance,2015,114.000 ,Gri (titanyum), 210.000 TL \n",
      "Skoda Fabia 1.0 GreenTec Style,2018,40.300 ,Füme, 184.000 TL \n",
      "Skoda SuperB 1.6 TDI Style,2018,73.000 ,Füme, 297.000 TL \n",
      "Skoda Octavia 1.6 TDI Style CR,2017,109.000 ,Beyaz, 240.000 TL \n",
      "Skoda SuperB 2.0 TDI Prestige,2016,138.100 ,Gri, 382.750 TL \n",
      "Skoda Octavia 1.6 TDI Elegance,2014,143.000 ,Siyah, 190.000 TL \n",
      "Skoda SuperB 1.6 TDI Style,2017,104.634 ,Beyaz, 259.750 TL \n",
      "Skoda Octavia 1.6 Classic,2007,187.000 ,-, 101.500 TL \n",
      "Skoda Octavia 1.4 TSI Sport,2018,82.500 ,Füme, 247.500 TL \n",
      "Skoda Octavia 1.6 TDI Style,2019,29.000 ,Gri (Gümüş), 300.000 TL \n",
      "Skoda Fabia 1.6 Elegance,2008,172.000 ,Turuncu, 83.500 TL \n",
      "Skoda Octavia 1.4 TSI Elegance,2010,233.000 ,Siyah, 117.000 TL \n",
      "Skoda Fabia 1.4 Ambiente Dynamic,2011,93.400 ,-, 102.000 TL \n",
      "Skoda SuperB 1.6 TDI Prestige,2016,152.000 ,Füme, 272.500 TL \n",
      "Skoda Felicia 1.6 GLXi Kombi,2000,210.000 ,Gri, 34.000 TL \n",
      "Skoda SuperB 1.6 TDI Elegance,2014,112.000 ,Lacivert, 225.000 TL \n",
      "Skoda Rapid 1.4 TDI Style,2016,62.575 ,-, 195.000 TL \n",
      "Skoda SuperB 2.0 TDI Prestige,2017,85.000 ,-, 305.000 TL \n",
      "Skoda Fabia 1.2 Ambition,2013,150.000 ,-, 82.500 TL \n",
      "Skoda Forman LX,1994,208.000 ,-, 23.000 TL \n",
      "Skoda Rapid 1.6 TDI Elegance,2015,120.000 ,-, 140.000 TL \n",
      "Skoda Octavia 1.6 TDI Elegance CR,2014,151.000 ,-, 178.000 TL \n",
      "Skoda Octavia 1.6 TDI Style,2016,142.000 ,Siyah, 205.000 TL \n",
      "Skoda SuperB 1.6 TDI Prestige,2015,179.000 ,-, 273.000 TL \n",
      "Skoda SuperB 1.4 TSI Elegance,2011,139.900 ,Kahverengi, 159.900 TL \n",
      "Skoda Fabia 1.4 Comfort,2001,297.000 ,Kırmızı, 63.000 TL \n",
      "Skoda SuperB 1.9 TDI Comfort,2007,350.000 ,-, 75.000 TL \n",
      "Skoda Octavia 1.6 TDI Optimal,2017,158.000 ,-, 180.000 TL \n",
      "Skoda Scala 1.5 TSI Premium,2020,500 ,Kırmızı, 296.900 TL \n",
      "Skoda Rapid 1.6 TDI Elegance,2013,167.000 ,Gri, 120.000 TL \n",
      "Skoda Fabia 1.4 TDI Style,2015,77.000 ,Yeşil, 171.900 TL \n",
      "Skoda Scala 1.6 TDI Premium,2020,0 ,Mavi, 277.900 TL \n",
      "Skoda Octavia 1.2 TSI Optimal,2015,87.000 ,-, 152.000 TL \n"
     ]
    }
   ],
   "source": [
    "import requests\n",
    "from bs4 import BeautifulSoup\n",
    "\n",
    "sahibindenurl = \"https://www.arabam.com/ikinci-el/otomobil/skoda-istanbul-avrupa?take=50\"\n",
    "\n",
    "r = requests.get(sahibindenurl)\n",
    "\n",
    "soup = BeautifulSoup(r.content,\"html.parser\")\n",
    "\n",
    "gelen_veri = soup.find_all(\"table\",{\"class\":\"table listing-table w100 border-grey2\"})\n",
    "\n",
    "araba_tablosu = (gelen_veri[0].contents) [len(gelen_veri[0].contents)-1]\n",
    "araba_tablosu = araba_tablosu.find_all(\"tr\")\n",
    "araba_tablosu.pop(6)\n",
    "araba_tablosu.pop(2)\n",
    "\n",
    "for araba in araba_tablosu :\n",
    "    araba_modeli = araba.find_all(\"h3\", {\"class\": \"crop-after\"})\n",
    "    name = araba_modeli[0].text\n",
    "    \n",
    "    araba_yili = araba.find_all(\"td\", {\"class\": \"listing-text pl8 pr8 tac pr\"})\n",
    "    year = araba_yili[0].text\n",
    "    \n",
    "    araba_kilometre = araba.find_all(\"td\", {\"class\": \"listing-text pl8 pr8 tac pr\"})\n",
    "    km = araba_kilometre[1].text\n",
    "    \n",
    "    araba_rengi = araba.find_all(\"td\", {\"class\": \"listing-text pl8 pr8 tac pr\"})\n",
    "    colour = araba_rengi[2].text\n",
    "    \n",
    "    araba_fiyati = araba.find_all(\"td\", {\"class\": \"pl8 pr8 tac pr\"})\n",
    "    price = araba_fiyati[0].text\n",
    "    \n",
    "    print(name,year,km,colour,price,sep=\",\")"
   ]
  },
  {
   "cell_type": "code",
   "execution_count": null,
   "metadata": {},
   "outputs": [],
   "source": []
  }
 ],
 "metadata": {
  "kernelspec": {
   "display_name": "Python 3",
   "language": "python",
   "name": "python3"
  },
  "language_info": {
   "codemirror_mode": {
    "name": "ipython",
    "version": 3
   },
   "file_extension": ".py",
   "mimetype": "text/x-python",
   "name": "python",
   "nbconvert_exporter": "python",
   "pygments_lexer": "ipython3",
   "version": "3.7.6"
  }
 },
 "nbformat": 4,
 "nbformat_minor": 4
}
